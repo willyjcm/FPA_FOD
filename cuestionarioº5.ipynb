{
 "cells": [
  {
   "cell_type": "code",
   "execution_count": 1,
   "metadata": {},
   "outputs": [],
   "source": [
    "import plotly.express as px\n",
    "import pandas as pd\n",
    "import numpy  as np\n",
    "import sqlite3\n",
    "\n",
    "conexion = sqlite3.connect(r\"C:\\Users\\NIORKYS\\Desktop\\Programas Estadisticas\\BBDD\\FPA_FOD_20170508.sqlite\")\n"
   ]
  },
  {
   "cell_type": "code",
   "execution_count": 4,
   "metadata": {},
   "outputs": [],
   "source": [
    "vista_nº5 = pd.read_sql_query(\"SELECT FIPS_NAME, COUNT(*) AS Nº_FIPS_NAME FROM FIRES WHERE FIPS_NAME IS NOT NULL GROUP BY FIPS_NAME ORDER BY Nº_FIPS_NAME DESC LIMIT 5;\",conexion)\n",
    "vista_nº5"
   ]
  }
 ],
 "metadata": {
  "kernelspec": {
   "display_name": "Python 3",
   "language": "python",
   "name": "python3"
  },
  "language_info": {
   "codemirror_mode": {
    "name": "ipython",
    "version": 3
   },
   "file_extension": ".py",
   "mimetype": "text/x-python",
   "name": "python",
   "nbconvert_exporter": "python",
   "pygments_lexer": "ipython3",
   "version": "3.13.2"
  },
  "orig_nbformat": 4
 },
 "nbformat": 4,
 "nbformat_minor": 2
}
